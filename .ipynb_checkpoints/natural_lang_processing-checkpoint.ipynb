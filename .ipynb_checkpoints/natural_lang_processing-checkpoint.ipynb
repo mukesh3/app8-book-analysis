{
 "cells": [
  {
   "cell_type": "code",
   "execution_count": null,
   "id": "aa85142a-c949-4944-a70b-c1b14cf494a6",
   "metadata": {
    "tags": []
   },
   "outputs": [],
   "source": [
    "with open('miracle_in_the_andes.txt', 'r', encoding=\"utf8\") as file:\n",
    "          book = file.read()"
   ]
  },
  {
   "cell_type": "code",
   "execution_count": null,
   "id": "ec76eeb1-0f64-48eb-81cd-2ac2b752aa00",
   "metadata": {
    "tags": []
   },
   "outputs": [],
   "source": [
    "import re\n",
    "pattern = re.compile(\"[a-zA-Z]+\")\n",
    "findings = re.findall(pattern, book.lower())\n",
    "findings[:5]"
   ]
  },
  {
   "cell_type": "code",
   "execution_count": null,
   "id": "1693ca0d-aca5-4267-a457-3427eeabb813",
   "metadata": {
    "tags": []
   },
   "outputs": [],
   "source": [
    "d = {}\n",
    "for word in findings:\n",
    "    if word in d.keys():\n",
    "        d[word] = d[word] + 1\n",
    "    else:\n",
    "        d[word] = 1"
   ]
  },
  {
   "cell_type": "code",
   "execution_count": null,
   "id": "b4141c14-c117-4a3d-aff9-9ead403b812c",
   "metadata": {
    "tags": []
   },
   "outputs": [],
   "source": [
    "d_list = [(value, key) for (key, value) in d.items()]\n",
    "d_list = sorted(d_list, reverse=True)\n",
    "d_list[:5]"
   ]
  },
  {
   "cell_type": "code",
   "execution_count": null,
   "id": "d4607c96-e1f7-406f-974c-78b56d96d82b",
   "metadata": {
    "tags": []
   },
   "outputs": [],
   "source": [
    "pip install nltk"
   ]
  },
  {
   "cell_type": "code",
   "execution_count": null,
   "id": "cd033dbb-5482-4bee-813f-e2df059e3be8",
   "metadata": {
    "tags": []
   },
   "outputs": [],
   "source": [
    "import nltk\n",
    "from nltk.corpus import stopwords\n",
    "nltk.download('stopwords')\n",
    "english_stopwords = stopwords.words(\"english\")"
   ]
  },
  {
   "cell_type": "code",
   "execution_count": null,
   "id": "36fb7587-a20b-48cb-8277-87642e4eb7e3",
   "metadata": {
    "tags": []
   },
   "outputs": [],
   "source": [
    "english_stopwords"
   ]
  },
  {
   "cell_type": "code",
   "execution_count": null,
   "id": "c1f26587-9ebc-4012-97e1-1c5bb1d33bf0",
   "metadata": {
    "tags": []
   },
   "outputs": [],
   "source": [
    "filtered_words = []\n",
    "for count, word in d_list:\n",
    "    if word not in english_stopwords:\n",
    "        filtered_words.append((word, count))"
   ]
  },
  {
   "cell_type": "code",
   "execution_count": null,
   "id": "b1c28faa-2cd6-411b-b46d-1b10b46fd10e",
   "metadata": {
    "tags": []
   },
   "outputs": [],
   "source": [
    "filtered_words[:10]"
   ]
  },
  {
   "cell_type": "markdown",
   "id": "c98ca7f3-35f7-4d80-bd6a-191c5bc26b7d",
   "metadata": {},
   "source": [
    "# Sentiment Analysis: What is  the most positive and most negative chapters"
   ]
  },
  {
   "cell_type": "code",
   "execution_count": null,
   "id": "6dd1552e-8d08-4b55-b9af-b73061e81c75",
   "metadata": {
    "tags": []
   },
   "outputs": [],
   "source": [
    "nltk.download('vader_lexicon')\n",
    "from nltk.sentiment import SentimentIntensityAnalyzer"
   ]
  },
  {
   "cell_type": "code",
   "execution_count": null,
   "id": "42053a0c-d2bd-43d2-b4c7-f3aa2d789d9a",
   "metadata": {
    "tags": []
   },
   "outputs": [],
   "source": [
    "analyzer = SentimentIntensityAnalyzer()"
   ]
  },
  {
   "cell_type": "code",
   "execution_count": null,
   "id": "0804cd7d-8930-4a19-a857-76a80a27eb97",
   "metadata": {
    "tags": []
   },
   "outputs": [],
   "source": [
    "analyzer.polarity_scores(\"It's highest best best day in history\")"
   ]
  },
  {
   "cell_type": "code",
   "execution_count": null,
   "id": "8de10dcc-229b-4eac-989a-21cdf2ba3961",
   "metadata": {
    "tags": []
   },
   "outputs": [],
   "source": [
    "analyzer.polarity_scores(book)"
   ]
  },
  {
   "cell_type": "markdown",
   "id": "35668d94-4dfe-42a9-a105-2b406848f2f3",
   "metadata": {},
   "source": [
    "# Chapters sentiment analysis"
   ]
  },
  {
   "cell_type": "code",
   "execution_count": null,
   "id": "75748835-f374-4112-aba7-242bb2ee2607",
   "metadata": {
    "tags": []
   },
   "outputs": [],
   "source": [
    "import re\n",
    "pattern = re.compile(\"Chapter [0-9]+\")\n",
    "chapters = re.split(pattern, book)"
   ]
  },
  {
   "cell_type": "code",
   "execution_count": null,
   "id": "1e1a3a12-b5c2-4c99-a5e9-5f652049d5b5",
   "metadata": {
    "tags": []
   },
   "outputs": [],
   "source": [
    "chapters = chapters[1:]"
   ]
  },
  {
   "cell_type": "code",
   "execution_count": null,
   "id": "054f3703-bb0a-4f75-95e3-0c310895831c",
   "metadata": {
    "tags": []
   },
   "outputs": [],
   "source": [
    "for nr, chapter in enumerate(chapters):\n",
    "    scores = analyzer.polarity_scores(chapter)\n",
    "    print(nr+1, scores)"
   ]
  },
  {
   "cell_type": "code",
   "execution_count": null,
   "id": "5e4a3ca5-5c5e-47c1-b57a-36b72fc1afe3",
   "metadata": {},
   "outputs": [],
   "source": []
  }
 ],
 "metadata": {
  "kernelspec": {
   "display_name": "Python 3 (ipykernel)",
   "language": "python",
   "name": "python3"
  },
  "language_info": {
   "codemirror_mode": {
    "name": "ipython",
    "version": 3
   },
   "file_extension": ".py",
   "mimetype": "text/x-python",
   "name": "python",
   "nbconvert_exporter": "python",
   "pygments_lexer": "ipython3",
   "version": "3.10.9"
  }
 },
 "nbformat": 4,
 "nbformat_minor": 5
}
