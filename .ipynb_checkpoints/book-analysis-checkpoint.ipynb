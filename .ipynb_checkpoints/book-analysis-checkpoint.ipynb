{
 "cells": [
  {
   "cell_type": "code",
   "execution_count": null,
   "id": "6809d9c4-daa8-4134-84d6-087f5b255cd2",
   "metadata": {
    "tags": []
   },
   "outputs": [],
   "source": [
    "with open('miracle_in_the_andes.txt', 'r', encoding=\"utf8\") as file:\n",
    "          book = file.read()"
   ]
  },
  {
   "cell_type": "code",
   "execution_count": null,
   "id": "c40196ed-8bde-4ee3-aa7a-cbf6a7ce2e26",
   "metadata": {
    "tags": []
   },
   "outputs": [],
   "source": [
    "type(book)"
   ]
  },
  {
   "cell_type": "markdown",
   "id": "d4b2168c-0dd3-469b-9d8c-32dfaebe4124",
   "metadata": {},
   "source": [
    "# How many chapters?"
   ]
  },
  {
   "cell_type": "markdown",
   "id": "077be189-a3ee-4f9c-8ce2-291c4d1c7010",
   "metadata": {},
   "source": [
    "### With string expressions"
   ]
  },
  {
   "cell_type": "code",
   "execution_count": null,
   "id": "0198a09e-c298-4f1e-bb39-37c543bbd778",
   "metadata": {
    "tags": []
   },
   "outputs": [],
   "source": [
    "book.count(\"Chapter\")"
   ]
  },
  {
   "cell_type": "markdown",
   "id": "664ca390-98ca-4cd9-a79f-1cc3146f9719",
   "metadata": {},
   "source": [
    "### With regular experssion"
   ]
  },
  {
   "cell_type": "code",
   "execution_count": null,
   "id": "a86fc91e-5732-42de-92c7-fb1c4a7df782",
   "metadata": {
    "tags": []
   },
   "outputs": [],
   "source": [
    "import re"
   ]
  },
  {
   "cell_type": "code",
   "execution_count": null,
   "id": "03700011-09b5-4f5a-ac7c-bfd2b03c3d78",
   "metadata": {
    "tags": []
   },
   "outputs": [],
   "source": [
    "pattern = re.compile(\"Chapter [0-9]+\")\n",
    "findings = re.findall(pattern, book)\n",
    "print(findings)\n",
    "print(len(findings))"
   ]
  },
  {
   "cell_type": "code",
   "execution_count": null,
   "id": "e7060e99-4ab8-45f8-9e24-cdc764e226ae",
   "metadata": {
    "tags": []
   },
   "outputs": [],
   "source": [
    "pattern"
   ]
  },
  {
   "cell_type": "markdown",
   "id": "9b1209dd-6590-407f-ba3a-74a3429933eb",
   "metadata": {},
   "source": [
    "# Which are the senctences where \"love\" was used?"
   ]
  },
  {
   "cell_type": "code",
   "execution_count": null,
   "id": "f5f364c3-0e55-4556-a6c9-b867eebe9b89",
   "metadata": {
    "tags": []
   },
   "outputs": [],
   "source": [
    "pattern = re.compile(\"[A-Z]{1}[^.]*[^a-zA-Z]+love[^a-zA-Z]+[^.]*.\")\n",
    "findings = re.findall(pattern, book)"
   ]
  },
  {
   "cell_type": "code",
   "execution_count": null,
   "id": "fdbc8bf0-bfa5-4a38-961e-0d5707a58a68",
   "metadata": {
    "tags": []
   },
   "outputs": [],
   "source": [
    "print(len(findings))\n",
    "print(findings)\n"
   ]
  },
  {
   "cell_type": "code",
   "execution_count": null,
   "id": "13bb5239-c1be-4c5f-b190-d66ff4daa112",
   "metadata": {
    "tags": []
   },
   "outputs": [],
   "source": []
  },
  {
   "cell_type": "markdown",
   "id": "b360902d-de76-478f-9520-b642285cd77c",
   "metadata": {},
   "source": [
    "# What are the most used words?"
   ]
  },
  {
   "cell_type": "code",
   "execution_count": null,
   "id": "6767cabe-f88d-4be7-ad5e-04edcc5222ad",
   "metadata": {
    "tags": []
   },
   "outputs": [],
   "source": [
    "pattern = re.compile(\"[a-zA-Z]+\")\n",
    "findings = re.findall(pattern, book.lower())\n",
    "findings"
   ]
  },
  {
   "cell_type": "code",
   "execution_count": null,
   "id": "99dc5dc9-edbe-413b-ad31-fcb43fe708dd",
   "metadata": {
    "tags": []
   },
   "outputs": [],
   "source": [
    "d = {}\n",
    "for word in findings:\n",
    "    if word in d.keys():\n",
    "        d[word] = d[word] + 1\n",
    "    else:\n",
    "        d[word] = 1"
   ]
  },
  {
   "cell_type": "code",
   "execution_count": null,
   "id": "8521576a-b07a-476b-b34a-cd83801c96c5",
   "metadata": {
    "tags": []
   },
   "outputs": [],
   "source": [
    "d"
   ]
  },
  {
   "cell_type": "code",
   "execution_count": null,
   "id": "5bb483f0-2670-4c14-b795-bccf204054b8",
   "metadata": {
    "tags": []
   },
   "outputs": [],
   "source": [
    "d_list = [(value, key) for (key, value) in d.items()]\n",
    "sorted(d_list, reverse=True)"
   ]
  },
  {
   "cell_type": "markdown",
   "id": "166c128a-e99d-41b5-9f32-2da49ada77d3",
   "metadata": {},
   "source": [
    "# Paragraphs having the word love"
   ]
  },
  {
   "cell_type": "code",
   "execution_count": null,
   "id": "3669fa18-be1c-4f7e-8246-6c2f7c87f459",
   "metadata": {
    "tags": []
   },
   "outputs": [],
   "source": [
    "pattern = re.compile(\"[^\\n]+love[^\\n]+\")\n",
    "findings = re.findall(pattern, book)\n",
    "print(findings)\n",
    "len(findings)"
   ]
  },
  {
   "cell_type": "markdown",
   "id": "2fda9af2-88aa-41ce-bfec-cf24b331cf9d",
   "metadata": {},
   "source": [
    "# Extract Chaper titles"
   ]
  },
  {
   "cell_type": "code",
   "execution_count": null,
   "id": "bbacd46b-b4dc-47b5-9d11-d35e828a02c5",
   "metadata": {
    "tags": []
   },
   "outputs": [],
   "source": [
    "pattern = re.compile(\"[a-zA-Z ,]+\\n\\n+\")\n",
    "findings = re.findall(pattern, book)\n",
    "print(findings)\n",
    "len(findings)"
   ]
  },
  {
   "cell_type": "code",
   "execution_count": null,
   "id": "39f120e8-a6f1-443e-94fb-139964e07870",
   "metadata": {
    "tags": []
   },
   "outputs": [],
   "source": [
    "pattern = re.compile(\"([a-zA-Z ,]+)\\n\\n+\")\n",
    "findings = re.findall(pattern, book)\n",
    "print(findings)\n",
    "len(findings)"
   ]
  },
  {
   "cell_type": "code",
   "execution_count": null,
   "id": "7635638f-8c70-4844-8f0a-d3f556e9a2ab",
   "metadata": {
    "tags": []
   },
   "outputs": [],
   "source": [
    "def find(w):\n",
    "    pattern = re.compile(\"[a-zA-Z]+\")\n",
    "    findings = re.findall(pattern, book.lower())\n",
    "    d = {}\n",
    "    for word in findings:\n",
    "        if word in d.keys():\n",
    "            d[word] = d[word] + 1\n",
    "        else:\n",
    "            d[word] = 1\n",
    "    try:\n",
    "        return d[w]\n",
    "    except:\n",
    "        return f'The book does not containn the word \"{w}\"'"
   ]
  },
  {
   "cell_type": "code",
   "execution_count": null,
   "id": "fab5605a-23a5-46e2-9c52-43a149579f1b",
   "metadata": {
    "tags": []
   },
   "outputs": [],
   "source": [
    "find(\"love\")"
   ]
  },
  {
   "cell_type": "code",
   "execution_count": null,
   "id": "7d09de63-2b20-49b7-80ef-9ed412ff8104",
   "metadata": {
    "tags": []
   },
   "outputs": [],
   "source": [
    "find(\"hate\")"
   ]
  },
  {
   "cell_type": "code",
   "execution_count": null,
   "id": "3588d99a-74dc-47b3-934d-938ba125e226",
   "metadata": {},
   "outputs": [],
   "source": []
  }
 ],
 "metadata": {
  "kernelspec": {
   "display_name": "Python 3 (ipykernel)",
   "language": "python",
   "name": "python3"
  },
  "language_info": {
   "codemirror_mode": {
    "name": "ipython",
    "version": 3
   },
   "file_extension": ".py",
   "mimetype": "text/x-python",
   "name": "python",
   "nbconvert_exporter": "python",
   "pygments_lexer": "ipython3",
   "version": "3.10.9"
  }
 },
 "nbformat": 4,
 "nbformat_minor": 5
}
